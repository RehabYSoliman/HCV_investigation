{
 "cells": [
  {
   "cell_type": "code",
   "execution_count": null,
   "metadata": {},
   "outputs": [],
   "source": [
    "# dataSource=['EgyptianNotEgypt.gb']\n",
    "# filh=open('EgyptianNotEgypt.gb')\n",
    "# for i in filh:\n",
    "        if i.startswith('ACCESSION'):\n",
    "            x=i.split()\n",
    "            new_record =x[1]\n",
    "            print(new_record)\n",
    "    "
   ]
  },
  {
   "cell_type": "code",
   "execution_count": 19,
   "metadata": {},
   "outputs": [],
   "source": [
    "def process_record (record):\n",
    "    #record=open(file_name)\n",
    "    #count=0\n",
    "    new_record= {'Accession':[],'Strain':[],'Pubmed':[],'genotype':[],'subtype':[],'Version':[],'isolation_source':[],'country':[],'isolate':[],'CDS_bp_count':[],'gene':[]}\n",
    "    exc=['POLY','polyprotein','C','protein F']\n",
    "    temp=''\n",
    "    for i in record:\n",
    "        i=i.lstrip()\n",
    "        if i.startswith('ACCESSION'):\n",
    "            x=i.split()\n",
    "            new_record['Accession'].append(x[1])\n",
    "        elif i.startswith('LOCUS'):\n",
    "            i=i.split()\n",
    "            new_record['CDS_bp_count'].append(i[2])    \n",
    "        elif i.startswith('VERSION'):\n",
    "            new_record['Version'].append(i[12:])\n",
    "\n",
    "        elif i.startswith('/country='):\n",
    "            new_record['country'].append(i[10:-1])\n",
    "            \n",
    "        elif i.startswith('/isolation_source'):\n",
    "            new_record['isolation_source'].append(i[19:-1])\n",
    "            \n",
    "        elif i.startswith('/strain='):\n",
    "            new_record['Strain'].append(i[9:-1])\n",
    "        \n",
    "        elif i.startswith('PUBMED'):\n",
    "             new_record['Pubmed'].append(i[8:-1])\n",
    "        elif i.startswith('/isolate='):\n",
    "            new_record['isolate'].append(i[10:-1])\n",
    "        elif i.startswith('/product='):\n",
    "            temp=i[10:-1]\n",
    "            if temp not in exc:\n",
    "                new_record['gene'].append(temp)\n",
    "        elif i.startswith('/gene='):\n",
    "            temp=i[7:-1]\n",
    "            if temp not in exc:\n",
    "                new_record['gene'].append(temp)\n",
    "        elif line.startswith('/note='):\n",
    "            if 'subtype' in line:\n",
    "                f=line.split()\n",
    "                new_record['subtype'].append(f[1])\n",
    "            else:\n",
    "                x=i.find('gen')\n",
    "                if x>0:\n",
    "                    i=i[x:-1]\n",
    "                    y=i.split(':')\n",
    "                    new_record['genotype'].append(y[-1])\n",
    "    return  new_record;"
   ]
  },
  {
   "cell_type": "code",
   "execution_count": 22,
   "metadata": {
    "scrolled": false
   },
   "outputs": [],
   "source": [
    "dataSource=['EgyptianNotEgypt.gb']\n",
    "record = []\n",
    "result=None\n",
    "for x in dataSource:\n",
    "    filh=open(x)\n",
    "    for line in filh:\n",
    "        line=line.lstrip()\n",
    "        line=line.rstrip()\n",
    "        if (not line.startswith('//')):\n",
    "#             print(line)\n",
    "            record.append(line)\n",
    "        else:\n",
    "            result=process_record(record)\n",
    "            continue\n",
    "        #for i in record :print (i)"
   ]
  },
  {
   "cell_type": "code",
   "execution_count": 23,
   "metadata": {},
   "outputs": [
    {
     "name": "stdout",
     "output_type": "stream",
     "text": [
      "{'Accession': ['U31256', 'U31255', 'JN564688', 'JN564687', 'JN564686', 'JN564685', 'JN564684', 'JN564683', 'JN564682', 'JN564681', 'JN564680', 'JN564679', 'AB726066', 'AB726065', 'AB726064', 'AB726063', 'AB726062', 'AB726061', 'AB726060', 'AB726059', 'AB726058', 'AB726057', 'AB726056', 'AB726055', 'AB726054', 'AB726053', 'AB726052', 'AB726051', 'AB726050', 'AB726049', 'AB726048', 'AB726047', 'AB726046', 'AB726045', 'AB726044', 'AB726043', 'AB726042', 'AB726041', 'AB726040', 'AB726039', 'AB726038', 'AB726037', 'AB726036', 'AB726035', 'AB726034', 'AB726033', 'AB726032', 'AB726031', 'AB726030', 'AB726029', 'AB726028', 'AB726027', 'AB726026', 'AB726025', 'AB726024', 'AB726023', 'AB726022', 'AB726021', 'AB726020', 'AB726019', 'AB726018', 'AB726017', 'AB726016', 'AB726015', 'AB726014', 'AB726013', 'AB726012', 'AB726011', 'AB726010', 'AB726009', 'AB726008', 'AB726007', 'AB726006', 'AB726005', 'AB726004', 'AB726003', 'AB726002', 'AB726001', 'AB726000', 'AB725999', 'AB725998', 'AB725997', 'AB725996', 'AB725995', 'AB725994', 'AB725993', 'AB725992', 'AB725991', 'AB725990', 'AB725989', 'AB725988', 'AB725987', 'FJ807151', 'FJ807150', 'FJ807149', 'FJ807145', 'FJ807105', 'FJ807104', 'FJ807101', 'FJ807097', 'FJ807096', 'FJ807095', 'FJ807093', 'FJ807092', 'FJ807091', 'FJ807090', 'FJ807089', 'FJ807086', 'FJ807084', 'FJ807083', 'FJ807082', 'FJ807080', 'FJ807078', 'FJ807076', 'FJ807075', 'FJ807073', 'FJ807072', 'FJ807071', 'FJ807070', 'FJ807066', 'FJ807065', 'FJ807062', 'FJ807059', 'FJ807057', 'FJ807056', 'FJ807054', 'FJ807052', 'FJ807050', 'FJ807049', 'FJ807047', 'D82034', 'D82033', 'D82032', 'D43680', 'D43679', 'D43678', 'D43677', 'D43681', 'D43676', 'D43675'], 'Strain': ['EUEG28', 'EUEG15'], 'Pubmed': [' 759535', ' 759535', ' 2299318', ' 2299318', ' 2299318', ' 2299318', ' 2299318', ' 2299318', ' 2299318', ' 2299318', ' 2299318', ' 2299318', ' 2299318', ' 2299318', ' 2299318', ' 2299318', ' 2299318', ' 2299318', ' 2299318', ' 2299318', ' 2299318', ' 2299318', ' 2299318', ' 2299318', ' 2299318', ' 2299318', ' 2299318', ' 2299318', ' 2299318', ' 2299318', ' 2299318', ' 2299318', ' 2299318', ' 2299318', ' 2299318', ' 2299318', ' 2299318', ' 2299318', ' 2299318', ' 2299318', ' 2299318', ' 2299318', ' 2299318', ' 2299318', ' 2299318', ' 2299318', ' 2299318', ' 2299318', ' 2299318', ' 2299318', ' 2299318', ' 2299318', ' 2299318', ' 2299318', ' 2299318', ' 2299318', ' 2299318', ' 2299318', ' 2299318', ' 2299318', ' 2299318', ' 2299318', ' 2299318', ' 2299318', ' 2299318', ' 2299318', ' 2299318', ' 2299318', ' 2299318', ' 2299318', ' 2299318', ' 2299318', ' 2299318', ' 2299318', ' 2299318', ' 2299318', ' 2299318', ' 2299318', ' 2299318', ' 2299318', ' 2299318', ' 2299318', ' 1979404', ' 1979404', ' 1979404', ' 1979404', ' 1979404', ' 1979404', ' 1979404', ' 1979404', ' 1979404', ' 1979404', ' 1979404', ' 1979404', ' 1979404', ' 1979404', ' 1979404', ' 1979404', ' 1979404', ' 1979404', ' 1979404', ' 1979404', ' 1979404', ' 1979404', ' 1979404', ' 1979404', ' 1979404', ' 1979404', ' 1979404', ' 1979404', ' 1979404', ' 1979404', ' 1979404', ' 1979404', ' 1979404', ' 1979404', ' 1979404', ' 1979404', ' 1979404', ' 1979404', ' 871292', ' 871292', ' 871292'], 'genotype': [], 'subtype': [], 'Version': ['U31256.1', 'U31255.1', 'JN564688.1', 'JN564687.1', 'JN564686.1', 'JN564685.1', 'JN564684.1', 'JN564683.1', 'JN564682.1', 'JN564681.1', 'JN564680.1', 'JN564679.1', 'AB726066.1', 'AB726065.1', 'AB726064.1', 'AB726063.1', 'AB726062.1', 'AB726061.1', 'AB726060.1', 'AB726059.1', 'AB726058.1', 'AB726057.1', 'AB726056.1', 'AB726055.1', 'AB726054.1', 'AB726053.1', 'AB726052.1', 'AB726051.1', 'AB726050.1', 'AB726049.1', 'AB726048.1', 'AB726047.1', 'AB726046.1', 'AB726045.1', 'AB726044.1', 'AB726043.1', 'AB726042.1', 'AB726041.1', 'AB726040.1', 'AB726039.1', 'AB726038.1', 'AB726037.1', 'AB726036.1', 'AB726035.1', 'AB726034.1', 'AB726033.1', 'AB726032.1', 'AB726031.1', 'AB726030.1', 'AB726029.1', 'AB726028.1', 'AB726027.1', 'AB726026.1', 'AB726025.1', 'AB726024.1', 'AB726023.1', 'AB726022.1', 'AB726021.1', 'AB726020.1', 'AB726019.1', 'AB726018.1', 'AB726017.1', 'AB726016.1', 'AB726015.1', 'AB726014.1', 'AB726013.1', 'AB726012.1', 'AB726011.1', 'AB726010.1', 'AB726009.1', 'AB726008.1', 'AB726007.1', 'AB726006.1', 'AB726005.1', 'AB726004.1', 'AB726003.1', 'AB726002.1', 'AB726001.1', 'AB726000.1', 'AB725999.1', 'AB725998.1', 'AB725997.1', 'AB725996.1', 'AB725995.1', 'AB725994.1', 'AB725993.1', 'AB725992.1', 'AB725991.1', 'AB725990.1', 'AB725989.1', 'AB725988.1', 'AB725987.1', 'FJ807151.1', 'FJ807150.1', 'FJ807149.1', 'FJ807145.1', 'FJ807105.1', 'FJ807104.1', 'FJ807101.1', 'FJ807097.1', 'FJ807096.1', 'FJ807095.1', 'FJ807093.1', 'FJ807092.1', 'FJ807091.1', 'FJ807090.1', 'FJ807089.1', 'FJ807086.1', 'FJ807084.1', 'FJ807083.1', 'FJ807082.1', 'FJ807080.1', 'FJ807078.1', 'FJ807076.1', 'FJ807075.1', 'FJ807073.1', 'FJ807072.1', 'FJ807071.1', 'FJ807070.1', 'FJ807066.1', 'FJ807065.1', 'FJ807062.1', 'FJ807059.1', 'FJ807057.1', 'FJ807056.1', 'FJ807054.1', 'FJ807052.1', 'FJ807050.1', 'FJ807049.1', 'FJ807047.1', 'D82034.1', 'D82033.1', 'D82032.1', 'D43680.1', 'D43679.1', 'D43678.1', 'D43677.1', 'D43681.1', 'D43676.1', 'D43675.1'], 'isolation_source': ['Egyptian migrant', 'Egyptian migrant', 'Egyptian migrant', 'Egyptian migrant', 'Egyptian migrant', 'Egyptian migrant', 'Egyptian migrant', 'Egyptian migrant', 'Egyptian migrant', 'Egyptian migrant', 'Egyptian chronically hepatitis C viru', 'Egyptian chronically hepatitis C viru', 'Egyptian chronically hepatitis C viru', 'Egyptian chronically hepatitis C viru', 'Egyptian chronically hepatitis C viru', 'Egyptian chronically hepatitis C viru', 'Egyptian chronically hepatitis C viru', 'Egyptian chronically hepatitis C viru', 'Egyptian chronically hepatitis C viru', 'Egyptian chronically hepatitis C viru', 'Egyptian chronically hepatitis C viru', 'Egyptian chronically hepatitis C viru', 'Egyptian chronically hepatitis C viru', 'Egyptian chronically hepatitis C viru', 'Egyptian chronically hepatitis C viru', 'Egyptian chronically hepatitis C viru', 'Egyptian chronically hepatitis C viru', 'Egyptian chronically hepatitis C viru', 'Egyptian chronically hepatitis C viru', 'Egyptian chronically hepatitis C viru', 'Egyptian chronically hepatitis C viru', 'Egyptian chronically hepatitis C viru', 'Egyptian chronically hepatitis C viru', 'Egyptian chronically hepatitis C viru', 'Egyptian chronically hepatitis C viru', 'Egyptian chronically hepatitis C viru', 'Egyptian chronically hepatitis C viru', 'Egyptian chronically hepatitis C viru', 'Egyptian chronically hepatitis C viru', 'Egyptian chronically hepatitis C viru', 'Egyptian chronically hepatitis C viru', 'Egyptian chronically hepatitis C viru', 'Egyptian chronically hepatitis C viru', 'Egyptian chronically hepatitis C viru', 'Egyptian chronically hepatitis C viru', 'Egyptian chronically hepatitis C viru', 'Egyptian chronically hepatitis C viru', 'Egyptian chronically hepatitis C viru', 'Egyptian chronically hepatitis C viru', 'Egyptian chronically hepatitis C viru', 'Egyptian chronically hepatitis C viru', 'Egyptian chronically hepatitis C viru', 'Egyptian chronically hepatitis C viru', 'Egyptian chronically hepatitis C viru', 'Egyptian chronically hepatitis C viru', 'Egyptian chronically hepatitis C viru', 'Egyptian chronically hepatitis C viru', 'Egyptian chronically hepatitis C viru', 'Egyptian chronically hepatitis C viru', 'Egyptian chronically hepatitis C viru', 'Egyptian chronically hepatitis C viru', 'Egyptian chronically hepatitis C viru', 'Egyptian chronically hepatitis C viru', 'Egyptian chronically hepatitis C viru', 'Egyptian chronically hepatitis C viru', 'Egyptian chronically hepatitis C viru', 'Egyptian chronically hepatitis C viru', 'Egyptian chronically hepatitis C viru', 'Egyptian chronically hepatitis C viru', 'Egyptian chronically hepatitis C viru', 'Egyptian chronically hepatitis C viru', 'Egyptian chronically hepatitis C viru', 'Egyptian chronically hepatitis C viru', 'Egyptian chronically hepatitis C viru', 'Egyptian chronically hepatitis C viru', 'Egyptian chronically hepatitis C viru', 'Egyptian chronically hepatitis C viru', 'Egyptian chronically hepatitis C viru', 'Egyptian chronically hepatitis C viru', 'Egyptian chronically hepatitis C viru', 'Egyptian chronically hepatitis C viru', 'Egyptian chronically hepatitis C viru', 'Egyptian chronically hepatitis C viru', 'Egyptian chronically hepatitis C viru', 'Egyptian chronically hepatitis C viru', 'Egyptian chronically hepatitis C viru', 'Egyptian chronically hepatitis C viru', 'Egyptian chronically hepatitis C viru', 'Egyptian chronically hepatitis C viru', 'Egyptian chronically hepatitis C viru', 'Egyptian immigrant', 'Egyptian immigrant', 'Egyptian immigrant', 'Egyptian immigrant', 'Egyptian immigrant', 'Egyptian immigrant', 'Egyptian immigrant', 'Egyptian immigrant', 'Egyptian immigrant', 'Egyptian immigrant', 'Egyptian immigrant', 'Egyptian immigrant', 'Egyptian immigrant', 'Egyptian immigrant', 'Egyptian immigrant', 'Egyptian immigrant', 'Egyptian immigrant', 'Egyptian immigrant', 'Egyptian immigrant', 'Egyptian immigrant', 'Egyptian immigrant', 'Egyptian immigrant', 'Egyptian immigrant', 'Egyptian immigrant', 'Egyptian immigrant', 'Egyptian immigrant', 'Egyptian immigrant', 'Egyptian immigrant', 'Egyptian immigrant', 'Egyptian immigrant', 'Egyptian immigrant', 'Egyptian immigrant', 'Egyptian immigrant', 'Egyptian immigrant', 'Egyptian immigrant', 'Egyptian immigrant', 'Egyptian immigrant', 'Egyptian immigrant'], 'country': ['Netherlands', 'Netherlands', 'Netherlands', 'Netherlands', 'Netherlands', 'Netherlands', 'Netherlands', 'Netherlands', 'Netherlands', 'Netherlands', 'Netherlands', 'Netherlands', 'Netherlands', 'Netherlands', 'Netherlands', 'Netherlands', 'Netherlands', 'Netherlands', 'Netherlands', 'Netherlands', 'Netherlands', 'Netherlands', 'Netherlands', 'Netherlands', 'Netherlands', 'Netherlands', 'Netherlands', 'Netherlands', 'Netherlands', 'Netherlands', 'Netherlands', 'Netherlands', 'Netherlands', 'Netherlands', 'Netherlands', 'Netherlands', 'Netherlands', 'Netherlands', 'Netherlands', 'Netherlands', 'Netherlands', 'Netherlands', 'Netherlands', 'Netherlands', 'Netherlands', 'Netherlands', 'Netherlands', 'Netherlands'], 'isolate': ['Egyptian', 'Egyptian', 'EG502', 'EG470', 'EG392', 'EG344', 'EG238', 'EG214', 'EG118', 'EG107', 'EG24', 'EG16', 'Core_85', 'Core_84', 'Core_82', 'Core_81', 'Core_8', 'Core_78', 'Core_77', 'Core_76', 'Core_73', 'Core_72', 'Core_69', 'Core_68', 'Core_67', 'Core_65', 'Core_63', 'Core_59', 'Core_56', 'Core_51', 'Core_5', 'Core_49', 'Core_46', 'Core_45', 'Core_42', 'Core_38', 'Core_36', 'Core_33', 'Core_32', 'Core_27', 'Core_25', 'Core_22', 'Core_17', 'Core_14', 'Core_13', 'Core_12', 'Core_11', 'Core_10', 'Core_1', 'NS5A_87', 'NS5A_86', 'NS5A_26', 'NS5A_8', 'NS5A_76', 'NS5A_56', 'NS5A_36', 'NS5A_32', 'NS5A_13', 'NS5A_85', 'NS5A_84', 'NS5A_82', 'NS5A_81', 'NS5A_80', 'NS5A_78', 'NS5A_77', 'NS5A_75', 'NS5A_73', 'NS5A_72', 'NS5A_69', 'NS5A_68', 'NS5A_67', 'NS5A_65', 'NS5A_63', 'NS5A_59', 'NS5A_51', 'NS5A_5', 'NS5A_49', 'NS5A_46', 'NS5A_45', 'NS5A_42', 'NS5A_38', 'NS5A_33', 'NS5A_27', 'NS5A_25', 'NS5A_23', 'NS5A_22', 'NS5A_17', 'NS5A_14', 'NS5A_12', 'NS5A_11', 'NS5A_10', 'NS5A_1', 'PAT114', 'PAT113', 'PAT112', 'PAT108', 'PAT65', 'PAT64', 'PAT60', 'PAT52', 'PAT50', 'PAT49', 'PAT47', 'PAT46', 'PAT45', 'PAT44', 'PAT43', 'PAT40', 'PAT38', 'PAT37', 'PAT36', 'PAT34', 'PAT32', 'PAT30', 'PAT29', 'PAT27', 'PAT26', 'PAT25', 'PAT24', 'PAT20', 'PAT19', 'PAT16', 'PAT13', 'PAT11', 'PAT10', 'PAT8', 'PAT6', 'PAT4', 'PAT3', 'PAT1', 'SF2', 'PAKIS', 'PAKIS', 'Yemeni patient', 'Yemeni patient', 'Yemeni patient', 'Yemeni patient', 'Yemeni patient', 'Yemeni patient'], 'CDS_bp_count': ['302', '308', '419', '419', '419', '419', '419', '419', '419', '419', '419', '419', '573', '573', '573', '573', '573', '573', '573', '573', '573', '573', '573', '573', '573', '573', '573', '573', '573', '573', '573', '573', '573', '573', '573', '573', '573', '573', '573', '573', '573', '573', '573', '573', '573', '573', '573', '573', '573', '669', '669', '669', '672', '672', '672', '672', '672', '672', '675', '675', '675', '675', '675', '675', '675', '675', '675', '675', '675', '675', '675', '675', '675', '675', '675', '675', '672', '675', '675', '675', '675', '675', '675', '675', '675', '675', '675', '675', '675', '675', '675', '675', '653', '653', '653', '653', '262', '653', '653', '653', '407', '653', '653', '653', '653', '653', '653', '653', '653', '653', '653', '653', '653', '653', '653', '653', '653', '653', '653', '653', '653', '653', '653', '653', '653', '653', '653', '653', '653', '653', '322', '332', '332', '776', '776', '776', '776', '776', '326', '326'], 'gene': ['core protein', 'core protein', 'Core protein', 'Core protein', 'Core protein', 'Core protein', 'Core protein', 'Core protein', 'Core protein', 'Core protein', 'Core protein', 'Core protein', 'Core protein', 'Core protein', 'Core protein', 'Core protein', 'Core protein', 'Core protein', 'Core protein', 'Core protein', 'Core protein', 'Core protein', 'Core protein', 'Core protein', 'Core protein', 'Core protein', 'Core protein', 'Core protein', 'Core protein', 'Core protein', 'Core protein', 'Core protein', 'Core protein', 'Core protein', 'Core protein', 'Core protein', 'Core protein', 'Core protein', 'Core protein', 'NS5A protein', 'NS5A protein', 'NS5A protein', 'NS5A protein', 'NS5A protein', 'NS5A protein', 'NS5A protein', 'NS5A protein', 'NS5A protein', 'NS5A protein', 'NS5A protein', 'NS5A protein', 'NS5A protein', 'NS5A protein', 'NS5A protein', 'NS5A protein', 'NS5A protein', 'NS5A protein', 'NS5A protein', 'NS5A protein', 'NS5A protein', 'NS5A protein', 'NS5A protein', 'NS5A protein', 'NS5A protein', 'NS5A protein', 'NS5A protein', 'NS5A protein', 'NS5A protein', 'NS5A protein', 'NS5A protein', 'NS5A protein', 'NS5A protein', 'NS5A protein', 'NS5A protein', 'NS5A protein', 'NS5A protein', 'NS5A protein', 'NS5A protein', 'NS5A protein', 'NS5A protein', 'NS5A protein', 'NS5A protein', 'NS5B', 'NS5B', 'NS5B', 'NS5B', 'NS5B', 'NS5B', 'NS5B', 'NS5B', 'NS5B', 'NS5B', 'NS5B', 'NS5B', 'NS5B', 'NS5B', 'NS5B', 'NS5B', 'NS5B', 'NS5B', 'NS5B', 'NS5B', 'NS5B', 'NS5B', 'NS5B', 'NS5B', 'NS5B', 'NS5B', 'NS5B', 'NS5B', 'NS5B', 'NS5B', 'NS5B', 'NS5B', 'NS5B', 'NS5B', 'NS5B', 'NS5B', 'NS5B', 'NS5B', 'core protein', 'core protein', 'core protein']}\n"
     ]
    }
   ],
   "source": [
    "print(result)"
   ]
  },
  {
   "cell_type": "code",
   "execution_count": 26,
   "metadata": {},
   "outputs": [],
   "source": [
    "from matplotlib import pyplot as plt"
   ]
  },
  {
   "cell_type": "code",
   "execution_count": 25,
   "metadata": {},
   "outputs": [],
   "source": [
    "import pandas as pd"
   ]
  },
  {
   "cell_type": "code",
   "execution_count": 28,
   "metadata": {},
   "outputs": [
    {
     "name": "stdout",
     "output_type": "stream",
     "text": [
      "{'core protein': 5, 'Core protein': 37, 'NS5A protein': 43, 'NS5B': 38}\n"
     ]
    }
   ],
   "source": [
    "d = dict()\n",
    "for c in result['gene']:\n",
    "    if c not in d:\n",
    "        d[c] = 1 \n",
    "    else:\n",
    "        d[c] = d[c] + 1\n",
    "print(d)\n"
   ]
  },
  {
   "cell_type": "code",
   "execution_count": 37,
   "metadata": {},
   "outputs": [
    {
     "data": {
      "image/png": "[encoded data removed]",
      "text/plain": [
       "<Figure size 432x288 with 1 Axes>"
      ]
     },
     "metadata": {
      "needs_background": "light"
     },
     "output_type": "display_data"
    }
   ],
   "source": [
    "plt.bar(list(d.keys()), d.values(),0.2)\n",
    "\n",
    "plt.show()"
   ]
  },
  {
   "cell_type": "code",
   "execution_count": 33,
   "metadata": {},
   "outputs": [
    {
     "name": "stdout",
     "output_type": "stream",
     "text": [
      "{'Netherlands': 48}\n"
     ]
    }
   ],
   "source": [
    "con = dict()\n",
    "for z in result['country']:\n",
    "    if z not in con:\n",
    "        con[z] = 1 \n",
    "    else:\n",
    "        con[z] = con[z] + 1\n",
    "print(con)"
   ]
  },
  {
   "cell_type": "code",
   "execution_count": null,
   "metadata": {},
   "outputs": [],
   "source": []
  }
 ],
 "metadata": {
  "kernelspec": {
   "display_name": "Python 3",
   "language": "python",
   "name": "python3"
  },
  "language_info": {
   "codemirror_mode": {
    "name": "ipython",
    "version": 3
   },
   "file_extension": ".py",
   "mimetype": "text/x-python",
   "name": "python",
   "nbconvert_exporter": "python",
   "pygments_lexer": "ipython3",
   "version": "3.7.3"
  }
 },
 "nbformat": 4,
 "nbformat_minor": 2
}
