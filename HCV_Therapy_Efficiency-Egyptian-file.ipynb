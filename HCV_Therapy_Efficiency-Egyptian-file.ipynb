{
 "cells": [
  {
   "cell_type": "code",
   "execution_count": 19,
   "metadata": {},
   "outputs": [],
   "source": [
    "def process_record (record):\n",
    "    #count=0\n",
    "    new_record= {'Strain':[],'genotype':[],'subtype':[],'Version':[],'country':[],'governate':[],'gene':[]}\n",
    "    gene_of_interest=['NS5B','NS5A protein ','NS5B protein ','nonstructural protein 5B F','NS5b','non-structural protein 5B','NS5B RNA dependent RNA polymerase','nonstructural protein 5b','NSB5 protein','nonstructural protein 5A','NS3 protein','NS5A','NS3 protease','RNA-dependent RNA polymerase','NS3','nonstructural protein 5','NS5','NS5a','NS3 protease/helicase','NS5B RNA-dependent RNA polymerase']\n",
    "    temp=''\n",
    "    gov=[]\n",
    "\n",
    "    for i in record:\n",
    "        i=i.lstrip()\n",
    "        if i.startswith('VERSION'):\n",
    "            new_record['Version'].append(i[12:])\n",
    "\n",
    "        elif i.startswith('/country='):\n",
    "            lin=i[10:-1]\n",
    "            lin=lin.split(':')\n",
    "            new_record['country'].append(lin[0])\n",
    "            if len(lin)>1:\n",
    "                temp=lin[-1].split()\n",
    "                for t in temp:\n",
    "                    if 'governorate' in temp:\n",
    "                        temp.remove('governorate')\n",
    "                        gov.append(temp)\n",
    "                    elif 'Governorate'in temp:\n",
    "                        temp.remove('Governorate')\n",
    "                        gov.append(temp)\n",
    "            for g in gov:\n",
    "                if len(g)>1:\n",
    "                    new_record['governate'].append(str(g[-1]))\n",
    "                else:\n",
    "                    new_record['governate'].append(str(g[0]))\n",
    "\n",
    "        elif i.startswith('/strain='):\n",
    "            new_record['Strain'].append(i[9:-1])\n",
    "        \n",
    "        elif i.startswith('/product='):\n",
    "            temp=i[10:-1]\n",
    "            if temp in gene_of_interest:\n",
    "                new_record['gene'].append(temp)\n",
    "        elif i.startswith('/gene='):\n",
    "            temp=i[7:-1]\n",
    "            if temp in gene_of_interest:\n",
    "                new_record['gene'].append(temp)\n",
    "        elif i.startswith('/note='):\n",
    "            if 'subtype' in i:\n",
    "                f=i.split()\n",
    "                new_record['subtype'].append(f[1])\n",
    "            else:\n",
    "                x=i.find('gen')\n",
    "                if x>0:\n",
    "                    i=i[x:-1]\n",
    "                    y=i.split(':')\n",
    "                    new_record['genotype'].append(y[-1])\n",
    "    return  new_record;"
   ]
  },
  {
   "cell_type": "code",
   "execution_count": 20,
   "metadata": {
    "scrolled": false
   },
   "outputs": [],
   "source": [
    "dataSource=['EgyptianNotEgypt.gb']\n",
    "record = []\n",
    "for x in dataSource:\n",
    "    filh=open(x)\n",
    "    for line in filh:\n",
    "        line=line.lstrip()\n",
    "        line=line.rstrip()\n",
    "        if (not line.startswith('//')):\n",
    "#             print(line)\n",
    "            record.append(line)\n",
    "        else:\n",
    "            result=process_record(record)\n",
    "            continue"
   ]
  },
  {
   "cell_type": "code",
   "execution_count": 21,
   "metadata": {
    "scrolled": false
   },
   "outputs": [
    {
     "name": "stdout",
     "output_type": "stream",
     "text": [
      "{'Strain': ['EUEG28', 'EUEG15'], 'genotype': [' 4', ' 4', ' 4a', ' 4a', ' 4a', ' 4a', ' 4a', ' 4a', ' 4a', ' 4a', ' 4a', ' 4a', ' 4a', ' 4a', ' 4a', ' 4a', ' 4o', ' 4a', ' 4a', ' 4a', ' 4a', ' 4a', ' 4a', ' 4a', ' 4a', ' 4a', ' 4a', ' 4a', ' 4n', ' 4a', ' 4a', ' 4a', ' 4a', ' 4a', ' 4a', ' 4', ' 4a', ' 4a', ' 4a', ' 4a', ' 4a', ' 4a', ' 4a', ' 4a', ' 4a', ' 1b', ' 1g', ' 4a', ' 4a', ' 4a'], 'subtype': [], 'Version': ['U31256.1', 'U31255.1', 'JN564688.1', 'JN564687.1', 'JN564686.1', 'JN564685.1', 'JN564684.1', 'JN564683.1', 'JN564682.1', 'JN564681.1', 'JN564680.1', 'JN564679.1', 'AB726066.1', 'AB726065.1', 'AB726064.1', 'AB726063.1', 'AB726062.1', 'AB726061.1', 'AB726060.1', 'AB726059.1', 'AB726058.1', 'AB726057.1', 'AB726056.1', 'AB726055.1', 'AB726054.1', 'AB726053.1', 'AB726052.1', 'AB726051.1', 'AB726050.1', 'AB726049.1', 'AB726048.1', 'AB726047.1', 'AB726046.1', 'AB726045.1', 'AB726044.1', 'AB726043.1', 'AB726042.1', 'AB726041.1', 'AB726040.1', 'AB726039.1', 'AB726038.1', 'AB726037.1', 'AB726036.1', 'AB726035.1', 'AB726034.1', 'AB726033.1', 'AB726032.1', 'AB726031.1', 'AB726030.1', 'AB726029.1', 'AB726028.1', 'AB726027.1', 'AB726026.1', 'AB726025.1', 'AB726024.1', 'AB726023.1', 'AB726022.1', 'AB726021.1', 'AB726020.1', 'AB726019.1', 'AB726018.1', 'AB726017.1', 'AB726016.1', 'AB726015.1', 'AB726014.1', 'AB726013.1', 'AB726012.1', 'AB726011.1', 'AB726010.1', 'AB726009.1', 'AB726008.1', 'AB726007.1', 'AB726006.1', 'AB726005.1', 'AB726004.1', 'AB726003.1', 'AB726002.1', 'AB726001.1', 'AB726000.1', 'AB725999.1', 'AB725998.1', 'AB725997.1', 'AB725996.1', 'AB725995.1', 'AB725994.1', 'AB725993.1', 'AB725992.1', 'AB725991.1', 'AB725990.1', 'AB725989.1', 'AB725988.1', 'AB725987.1', 'FJ807151.1', 'FJ807150.1', 'FJ807149.1', 'FJ807145.1', 'FJ807105.1', 'FJ807104.1', 'FJ807101.1', 'FJ807097.1', 'FJ807096.1', 'FJ807095.1', 'FJ807093.1', 'FJ807092.1', 'FJ807091.1', 'FJ807090.1', 'FJ807089.1', 'FJ807086.1', 'FJ807084.1', 'FJ807083.1', 'FJ807082.1', 'FJ807080.1', 'FJ807078.1', 'FJ807076.1', 'FJ807075.1', 'FJ807073.1', 'FJ807072.1', 'FJ807071.1', 'FJ807070.1', 'FJ807066.1', 'FJ807065.1', 'FJ807062.1', 'FJ807059.1', 'FJ807057.1', 'FJ807056.1', 'FJ807054.1', 'FJ807052.1', 'FJ807050.1', 'FJ807049.1', 'FJ807047.1', 'D82034.1', 'D82033.1', 'D82032.1', 'D43680.1', 'D43679.1', 'D43678.1', 'D43677.1', 'D43681.1', 'D43676.1', 'D43675.1'], 'country': ['Netherlands', 'Netherlands', 'Netherlands', 'Netherlands', 'Netherlands', 'Netherlands', 'Netherlands', 'Netherlands', 'Netherlands', 'Netherlands', 'Netherlands', 'Netherlands', 'Netherlands', 'Netherlands', 'Netherlands', 'Netherlands', 'Netherlands', 'Netherlands', 'Netherlands', 'Netherlands', 'Netherlands', 'Netherlands', 'Netherlands', 'Netherlands', 'Netherlands', 'Netherlands', 'Netherlands', 'Netherlands', 'Netherlands', 'Netherlands', 'Netherlands', 'Netherlands', 'Netherlands', 'Netherlands', 'Netherlands', 'Netherlands', 'Netherlands', 'Netherlands', 'Netherlands', 'Netherlands', 'Netherlands', 'Netherlands', 'Netherlands', 'Netherlands', 'Netherlands', 'Netherlands', 'Netherlands', 'Netherlands'], 'governate': [], 'gene': ['NS5B', 'NS5B', 'NS5B', 'NS5B', 'NS5B', 'NS5B', 'NS5B', 'NS5B', 'NS5B', 'NS5B', 'NS5B', 'NS5B', 'NS5B', 'NS5B', 'NS5B', 'NS5B', 'NS5B', 'NS5B', 'NS5B', 'NS5B', 'NS5B', 'NS5B', 'NS5B', 'NS5B', 'NS5B', 'NS5B', 'NS5B', 'NS5B', 'NS5B', 'NS5B', 'NS5B', 'NS5B', 'NS5B', 'NS5B', 'NS5B', 'NS5B', 'NS5B', 'NS5B']}\n"
     ]
    }
   ],
   "source": [
    "print(result)"
   ]
  },
  {
   "cell_type": "code",
   "execution_count": 22,
   "metadata": {},
   "outputs": [
    {
     "name": "stdout",
     "output_type": "stream",
     "text": [
      "{'NS5B': 38}\n"
     ]
    }
   ],
   "source": [
    "d = dict()\n",
    "for c in result['gene']:\n",
    "    if c not in d:\n",
    "        d[c] = 1 \n",
    "    else:\n",
    "        d[c] = d[c] + 1\n",
    "print(d)\n"
   ]
  },
  {
   "cell_type": "code",
   "execution_count": 23,
   "metadata": {},
   "outputs": [],
   "source": [
    "import pandas as pd"
   ]
  },
  {
   "cell_type": "code",
   "execution_count": 24,
   "metadata": {},
   "outputs": [],
   "source": [
    "from matplotlib import pyplot as plt"
   ]
  },
  {
   "cell_type": "code",
   "execution_count": 25,
   "metadata": {},
   "outputs": [],
   "source": [
    "plt.rcParams['figure.figsize']=[15,6]"
   ]
  },
  {
   "cell_type": "code",
   "execution_count": 26,
   "metadata": {
    "scrolled": true
   },
   "outputs": [
    {
     "data": {
      "image/png": "[encoded data removed]",
      "text/plain": [
       "<Figure size 1080x432 with 1 Axes>"
      ]
     },
     "metadata": {
      "needs_background": "light"
     },
     "output_type": "display_data"
    }
   ],
   "source": [
    "for key in d:\n",
    "    x =key[0:6] \n",
    "    y =d[key]\n",
    "    plt.bar(x, y)\n",
    "    plt.title(\"Isolated Target Genes\")\n",
    "    plt.xlabel(\"gene\")\n",
    "plt.show()"
   ]
  },
  {
   "cell_type": "code",
   "execution_count": 27,
   "metadata": {},
   "outputs": [
    {
     "name": "stdout",
     "output_type": "stream",
     "text": [
      "{'Netherlands': 48}\n"
     ]
    }
   ],
   "source": [
    "con = dict()\n",
    "for z in result['country']:\n",
    "    if z not in con:\n",
    "        con[z] = 1 \n",
    "    else:\n",
    "        con[z] = con[z] + 1\n",
    "print(con)\n",
    "#print(result['country'])"
   ]
  },
  {
   "cell_type": "code",
   "execution_count": 28,
   "metadata": {
    "scrolled": false
   },
   "outputs": [
    {
     "data": {
      "image/png": "[encoded data removed]",
      "text/plain": [
       "<Figure size 1080x432 with 1 Axes>"
      ]
     },
     "metadata": {
      "needs_background": "light"
     },
     "output_type": "display_data"
    }
   ],
   "source": [
    "for key in con:\n",
    "    x =key \n",
    "    y =con[key]\n",
    "    plt.plot(x, y,'*')\n",
    "    plt.title(\"Countries Participate in Research \")\n",
    "    plt.xlabel(\"Country\")\n",
    "plt.show()"
   ]
  },
  {
   "cell_type": "code",
   "execution_count": 29,
   "metadata": {},
   "outputs": [
    {
     "name": "stdout",
     "output_type": "stream",
     "text": [
      "{' 4': 3, ' 4a': 43, ' 4o': 1, ' 4n': 1, ' 1b': 1, ' 1g': 1}\n"
     ]
    }
   ],
   "source": [
    "genotype = dict()\n",
    "for z in result['genotype']:\n",
    "    if z not in genotype:\n",
    "        genotype[z] = 1 \n",
    "    else:\n",
    "        genotype[z] = genotype[z] + 1\n",
    "print(genotype)"
   ]
  },
  {
   "cell_type": "code",
   "execution_count": 30,
   "metadata": {},
   "outputs": [
    {
     "data": {
      "image/png": "[encoded data removed]",
      "text/plain": [
       "<Figure size 1080x432 with 1 Axes>"
      ]
     },
     "metadata": {
      "needs_background": "light"
     },
     "output_type": "display_data"
    }
   ],
   "source": [
    "for key in genotype:\n",
    "    x =key \n",
    "    y =genotype[key]\n",
    "    plt.bar(x, y)\n",
    "    plt.title(\"Egyption patients Genotypes\")\n",
    "    plt.xlabel(\"Genotype\")\n",
    "plt.show()"
   ]
  },
  {
   "cell_type": "code",
   "execution_count": 31,
   "metadata": {},
   "outputs": [
    {
     "name": "stdout",
     "output_type": "stream",
     "text": [
      "{'EUEG28': 1, 'EUEG15': 1}\n"
     ]
    }
   ],
   "source": [
    "strain=dict()\n",
    "for s in result['Strain']:\n",
    "    if s not in  strain:\n",
    "        strain[s] = 1 \n",
    "    else:\n",
    "        strain[s] = strain[s] + 1\n",
    "print(strain)"
   ]
  },
  {
   "cell_type": "code",
   "execution_count": 33,
   "metadata": {},
   "outputs": [
    {
     "name": "stdout",
     "output_type": "stream",
     "text": [
      "{}\n"
     ]
    }
   ],
   "source": [
    "Gov=dict()\n",
    "for s in result['governate']:\n",
    "    if s not in  Gov:\n",
    "        Gov[s] = 1 \n",
    "    else:\n",
    "        Gov[s] = Gov[s] + 1\n",
    "print(Gov)"
   ]
  },
  {
   "cell_type": "code",
   "execution_count": 34,
   "metadata": {},
   "outputs": [],
   "source": [
    "for key in Gov:\n",
    "    x =key[:-2] \n",
    "    y =Gov[key]\n",
    "    plt.bar(x, y)\n",
    "    plt.title(\"Egypt Geographical distripution of the conducted research\")\n",
    "    plt.xlabel(\"Government\")\n",
    "plt.show()"
   ]
  },
  {
   "cell_type": "code",
   "execution_count": 35,
   "metadata": {},
   "outputs": [
    {
     "name": "stdout",
     "output_type": "stream",
     "text": [
      "{'U31256.1': 1, 'U31255.1': 1, 'JN564688.1': 1, 'JN564687.1': 1, 'JN564686.1': 1, 'JN564685.1': 1, 'JN564684.1': 1, 'JN564683.1': 1, 'JN564682.1': 1, 'JN564681.1': 1, 'JN564680.1': 1, 'JN564679.1': 1, 'AB726066.1': 1, 'AB726065.1': 1, 'AB726064.1': 1, 'AB726063.1': 1, 'AB726062.1': 1, 'AB726061.1': 1, 'AB726060.1': 1, 'AB726059.1': 1, 'AB726058.1': 1, 'AB726057.1': 1, 'AB726056.1': 1, 'AB726055.1': 1, 'AB726054.1': 1, 'AB726053.1': 1, 'AB726052.1': 1, 'AB726051.1': 1, 'AB726050.1': 1, 'AB726049.1': 1, 'AB726048.1': 1, 'AB726047.1': 1, 'AB726046.1': 1, 'AB726045.1': 1, 'AB726044.1': 1, 'AB726043.1': 1, 'AB726042.1': 1, 'AB726041.1': 1, 'AB726040.1': 1, 'AB726039.1': 1, 'AB726038.1': 1, 'AB726037.1': 1, 'AB726036.1': 1, 'AB726035.1': 1, 'AB726034.1': 1, 'AB726033.1': 1, 'AB726032.1': 1, 'AB726031.1': 1, 'AB726030.1': 1, 'AB726029.1': 1, 'AB726028.1': 1, 'AB726027.1': 1, 'AB726026.1': 1, 'AB726025.1': 1, 'AB726024.1': 1, 'AB726023.1': 1, 'AB726022.1': 1, 'AB726021.1': 1, 'AB726020.1': 1, 'AB726019.1': 1, 'AB726018.1': 1, 'AB726017.1': 1, 'AB726016.1': 1, 'AB726015.1': 1, 'AB726014.1': 1, 'AB726013.1': 1, 'AB726012.1': 1, 'AB726011.1': 1, 'AB726010.1': 1, 'AB726009.1': 1, 'AB726008.1': 1, 'AB726007.1': 1, 'AB726006.1': 1, 'AB726005.1': 1, 'AB726004.1': 1, 'AB726003.1': 1, 'AB726002.1': 1, 'AB726001.1': 1, 'AB726000.1': 1, 'AB725999.1': 1, 'AB725998.1': 1, 'AB725997.1': 1, 'AB725996.1': 1, 'AB725995.1': 1, 'AB725994.1': 1, 'AB725993.1': 1, 'AB725992.1': 1, 'AB725991.1': 1, 'AB725990.1': 1, 'AB725989.1': 1, 'AB725988.1': 1, 'AB725987.1': 1, 'FJ807151.1': 1, 'FJ807150.1': 1, 'FJ807149.1': 1, 'FJ807145.1': 1, 'FJ807105.1': 1, 'FJ807104.1': 1, 'FJ807101.1': 1, 'FJ807097.1': 1, 'FJ807096.1': 1, 'FJ807095.1': 1, 'FJ807093.1': 1, 'FJ807092.1': 1, 'FJ807091.1': 1, 'FJ807090.1': 1, 'FJ807089.1': 1, 'FJ807086.1': 1, 'FJ807084.1': 1, 'FJ807083.1': 1, 'FJ807082.1': 1, 'FJ807080.1': 1, 'FJ807078.1': 1, 'FJ807076.1': 1, 'FJ807075.1': 1, 'FJ807073.1': 1, 'FJ807072.1': 1, 'FJ807071.1': 1, 'FJ807070.1': 1, 'FJ807066.1': 1, 'FJ807065.1': 1, 'FJ807062.1': 1, 'FJ807059.1': 1, 'FJ807057.1': 1, 'FJ807056.1': 1, 'FJ807054.1': 1, 'FJ807052.1': 1, 'FJ807050.1': 1, 'FJ807049.1': 1, 'FJ807047.1': 1, 'D82034.1': 1, 'D82033.1': 1, 'D82032.1': 1, 'D43680.1': 1, 'D43679.1': 1, 'D43678.1': 1, 'D43677.1': 1, 'D43681.1': 1, 'D43676.1': 1, 'D43675.1': 1}\n"
     ]
    }
   ],
   "source": [
    "# Test for Any duplicated records\n",
    "Version=dict()\n",
    "for v in result['Version']:\n",
    "    if v not in  Version:\n",
    "        Version[v] = 1 \n",
    "    else:\n",
    "        Version[v] = Version[v] + 1\n",
    "print(Version)"
   ]
  },
  {
   "cell_type": "code",
   "execution_count": 36,
   "metadata": {},
   "outputs": [
    {
     "data": {
      "image/png": "[encoded data removed]",
      "text/plain": [
       "<Figure size 1080x432 with 1 Axes>"
      ]
     },
     "metadata": {
      "needs_background": "light"
     },
     "output_type": "display_data"
    }
   ],
   "source": [
    "for key in Version:\n",
    "    x =key[0:2] \n",
    "    y =Version[key]\n",
    "    plt.bar(x, y,0.1)\n",
    "    plt.title(\"Validate Record Uniqueness\")\n",
    "    plt.xlabel(\"record_ID\")\n",
    "plt.show()"
   ]
  },
  {
   "cell_type": "code",
   "execution_count": null,
   "metadata": {},
   "outputs": [],
   "source": []
  }
 ],
 "metadata": {
  "kernelspec": {
   "display_name": "Python 3",
   "language": "python",
   "name": "python3"
  },
  "language_info": {
   "codemirror_mode": {
    "name": "ipython",
    "version": 3
   },
   "file_extension": ".py",
   "mimetype": "text/x-python",
   "name": "python",
   "nbconvert_exporter": "python",
   "pygments_lexer": "ipython3",
   "version": "3.7.3"
  }
 },
 "nbformat": 4,
 "nbformat_minor": 2
}
